{
 "cells": [
  {
   "cell_type": "code",
   "execution_count": 1,
   "id": "324be1da",
   "metadata": {},
   "outputs": [],
   "source": [
    "import numpy as np\n",
    "from sklearn.linear_model import LinearRegression\n",
    "import pandas as pd\n",
    "import seaborn as sns\n",
    "import matplotlib.pyplot as plt\n",
    "from sklearn.model_selection import train_test_split\n",
    "from sklearn.metrics import mean_squared_error\n",
    "import sklearn.metrics as metrics\n",
    "import math\n",
    "from sklearn.linear_model import Lasso\n",
    "from sklearn.svm import LinearSVR\n",
    "from sklearn.preprocessing import StandardScaler\n",
    "from autogluon.tabular import TabularDataset, TabularPredictor"
   ]
  },
  {
   "cell_type": "markdown",
   "id": "48aa9c01",
   "metadata": {},
   "source": [
    "# Importing *train* and *test* datasets"
   ]
  },
  {
   "cell_type": "code",
   "execution_count": 2,
   "id": "47074bd2",
   "metadata": {},
   "outputs": [
    {
     "data": {
      "text/html": [
       "<div>\n",
       "<style scoped>\n",
       "    .dataframe tbody tr th:only-of-type {\n",
       "        vertical-align: middle;\n",
       "    }\n",
       "\n",
       "    .dataframe tbody tr th {\n",
       "        vertical-align: top;\n",
       "    }\n",
       "\n",
       "    .dataframe thead th {\n",
       "        text-align: right;\n",
       "    }\n",
       "</style>\n",
       "<table border=\"1\" class=\"dataframe\">\n",
       "  <thead>\n",
       "    <tr style=\"text-align: right;\">\n",
       "      <th></th>\n",
       "      <th>id</th>\n",
       "      <th>carat</th>\n",
       "      <th>cut</th>\n",
       "      <th>color</th>\n",
       "      <th>clarity</th>\n",
       "      <th>depth</th>\n",
       "      <th>table</th>\n",
       "      <th>price</th>\n",
       "      <th>x</th>\n",
       "      <th>y</th>\n",
       "      <th>z</th>\n",
       "    </tr>\n",
       "  </thead>\n",
       "  <tbody>\n",
       "    <tr>\n",
       "      <th>0</th>\n",
       "      <td>0</td>\n",
       "      <td>1.01</td>\n",
       "      <td>Very Good</td>\n",
       "      <td>E</td>\n",
       "      <td>SI2</td>\n",
       "      <td>60.0</td>\n",
       "      <td>60.0</td>\n",
       "      <td>4540</td>\n",
       "      <td>6.57</td>\n",
       "      <td>6.49</td>\n",
       "      <td>3.92</td>\n",
       "    </tr>\n",
       "    <tr>\n",
       "      <th>1</th>\n",
       "      <td>1</td>\n",
       "      <td>1.10</td>\n",
       "      <td>Premium</td>\n",
       "      <td>H</td>\n",
       "      <td>VS2</td>\n",
       "      <td>62.5</td>\n",
       "      <td>58.0</td>\n",
       "      <td>5729</td>\n",
       "      <td>6.59</td>\n",
       "      <td>6.54</td>\n",
       "      <td>4.10</td>\n",
       "    </tr>\n",
       "    <tr>\n",
       "      <th>2</th>\n",
       "      <td>2</td>\n",
       "      <td>1.50</td>\n",
       "      <td>Good</td>\n",
       "      <td>E</td>\n",
       "      <td>SI2</td>\n",
       "      <td>61.5</td>\n",
       "      <td>65.0</td>\n",
       "      <td>6300</td>\n",
       "      <td>7.21</td>\n",
       "      <td>7.17</td>\n",
       "      <td>4.42</td>\n",
       "    </tr>\n",
       "    <tr>\n",
       "      <th>3</th>\n",
       "      <td>3</td>\n",
       "      <td>1.53</td>\n",
       "      <td>Premium</td>\n",
       "      <td>E</td>\n",
       "      <td>SI1</td>\n",
       "      <td>61.3</td>\n",
       "      <td>59.0</td>\n",
       "      <td>12968</td>\n",
       "      <td>7.40</td>\n",
       "      <td>7.35</td>\n",
       "      <td>4.52</td>\n",
       "    </tr>\n",
       "    <tr>\n",
       "      <th>4</th>\n",
       "      <td>4</td>\n",
       "      <td>0.84</td>\n",
       "      <td>Fair</td>\n",
       "      <td>D</td>\n",
       "      <td>SI2</td>\n",
       "      <td>64.5</td>\n",
       "      <td>60.0</td>\n",
       "      <td>2167</td>\n",
       "      <td>5.92</td>\n",
       "      <td>5.84</td>\n",
       "      <td>3.79</td>\n",
       "    </tr>\n",
       "  </tbody>\n",
       "</table>\n",
       "</div>"
      ],
      "text/plain": [
       "   id  carat        cut color clarity  depth  table  price     x     y     z\n",
       "0   0   1.01  Very Good     E     SI2   60.0   60.0   4540  6.57  6.49  3.92\n",
       "1   1   1.10    Premium     H     VS2   62.5   58.0   5729  6.59  6.54  4.10\n",
       "2   2   1.50       Good     E     SI2   61.5   65.0   6300  7.21  7.17  4.42\n",
       "3   3   1.53    Premium     E     SI1   61.3   59.0  12968  7.40  7.35  4.52\n",
       "4   4   0.84       Fair     D     SI2   64.5   60.0   2167  5.92  5.84  3.79"
      ]
     },
     "execution_count": 2,
     "metadata": {},
     "output_type": "execute_result"
    }
   ],
   "source": [
    "train = pd.read_csv('/Users/mariachen/Desktop/mmf-data-science-2022/train.csv')\n",
    "train.head(5)"
   ]
  },
  {
   "cell_type": "code",
   "execution_count": 3,
   "id": "6c72f41d",
   "metadata": {},
   "outputs": [
    {
     "data": {
      "text/html": [
       "<div>\n",
       "<style scoped>\n",
       "    .dataframe tbody tr th:only-of-type {\n",
       "        vertical-align: middle;\n",
       "    }\n",
       "\n",
       "    .dataframe tbody tr th {\n",
       "        vertical-align: top;\n",
       "    }\n",
       "\n",
       "    .dataframe thead th {\n",
       "        text-align: right;\n",
       "    }\n",
       "</style>\n",
       "<table border=\"1\" class=\"dataframe\">\n",
       "  <thead>\n",
       "    <tr style=\"text-align: right;\">\n",
       "      <th></th>\n",
       "      <th>id</th>\n",
       "      <th>carat</th>\n",
       "      <th>cut</th>\n",
       "      <th>color</th>\n",
       "      <th>clarity</th>\n",
       "      <th>depth</th>\n",
       "      <th>table</th>\n",
       "      <th>x</th>\n",
       "      <th>y</th>\n",
       "      <th>z</th>\n",
       "    </tr>\n",
       "  </thead>\n",
       "  <tbody>\n",
       "    <tr>\n",
       "      <th>0</th>\n",
       "      <td>0</td>\n",
       "      <td>0.24</td>\n",
       "      <td>Ideal</td>\n",
       "      <td>G</td>\n",
       "      <td>VVS1</td>\n",
       "      <td>62.1</td>\n",
       "      <td>56.0</td>\n",
       "      <td>3.97</td>\n",
       "      <td>4.00</td>\n",
       "      <td>2.47</td>\n",
       "    </tr>\n",
       "    <tr>\n",
       "      <th>1</th>\n",
       "      <td>1</td>\n",
       "      <td>1.21</td>\n",
       "      <td>Very Good</td>\n",
       "      <td>F</td>\n",
       "      <td>VS2</td>\n",
       "      <td>62.9</td>\n",
       "      <td>54.0</td>\n",
       "      <td>6.78</td>\n",
       "      <td>6.82</td>\n",
       "      <td>4.28</td>\n",
       "    </tr>\n",
       "    <tr>\n",
       "      <th>2</th>\n",
       "      <td>2</td>\n",
       "      <td>0.50</td>\n",
       "      <td>Fair</td>\n",
       "      <td>E</td>\n",
       "      <td>SI1</td>\n",
       "      <td>61.7</td>\n",
       "      <td>68.0</td>\n",
       "      <td>5.09</td>\n",
       "      <td>5.03</td>\n",
       "      <td>3.12</td>\n",
       "    </tr>\n",
       "    <tr>\n",
       "      <th>3</th>\n",
       "      <td>3</td>\n",
       "      <td>0.50</td>\n",
       "      <td>Ideal</td>\n",
       "      <td>D</td>\n",
       "      <td>SI2</td>\n",
       "      <td>62.8</td>\n",
       "      <td>56.0</td>\n",
       "      <td>5.06</td>\n",
       "      <td>5.03</td>\n",
       "      <td>3.17</td>\n",
       "    </tr>\n",
       "    <tr>\n",
       "      <th>4</th>\n",
       "      <td>4</td>\n",
       "      <td>1.55</td>\n",
       "      <td>Ideal</td>\n",
       "      <td>E</td>\n",
       "      <td>SI2</td>\n",
       "      <td>62.3</td>\n",
       "      <td>55.0</td>\n",
       "      <td>7.44</td>\n",
       "      <td>7.37</td>\n",
       "      <td>4.61</td>\n",
       "    </tr>\n",
       "  </tbody>\n",
       "</table>\n",
       "</div>"
      ],
      "text/plain": [
       "   id  carat        cut color clarity  depth  table     x     y     z\n",
       "0   0   0.24      Ideal     G    VVS1   62.1   56.0  3.97  4.00  2.47\n",
       "1   1   1.21  Very Good     F     VS2   62.9   54.0  6.78  6.82  4.28\n",
       "2   2   0.50       Fair     E     SI1   61.7   68.0  5.09  5.03  3.12\n",
       "3   3   0.50      Ideal     D     SI2   62.8   56.0  5.06  5.03  3.17\n",
       "4   4   1.55      Ideal     E     SI2   62.3   55.0  7.44  7.37  4.61"
      ]
     },
     "execution_count": 3,
     "metadata": {},
     "output_type": "execute_result"
    }
   ],
   "source": [
    "test = pd.read_csv('/Users/mariachen/Desktop/mmf-data-science-2022/test.csv')\n",
    "test.head(5)"
   ]
  },
  {
   "cell_type": "code",
   "execution_count": 4,
   "id": "d3c9018c",
   "metadata": {},
   "outputs": [],
   "source": [
    "#Creating a copy of the train and test datasets\n",
    "\n",
    "c_test  = test.copy()\n",
    "c_train  = train.copy()"
   ]
  },
  {
   "cell_type": "markdown",
   "id": "80035d26",
   "metadata": {},
   "source": [
    "# Getting information about train dataset"
   ]
  },
  {
   "cell_type": "code",
   "execution_count": 5,
   "id": "5980de70",
   "metadata": {},
   "outputs": [
    {
     "data": {
      "text/html": [
       "<div>\n",
       "<style scoped>\n",
       "    .dataframe tbody tr th:only-of-type {\n",
       "        vertical-align: middle;\n",
       "    }\n",
       "\n",
       "    .dataframe tbody tr th {\n",
       "        vertical-align: top;\n",
       "    }\n",
       "\n",
       "    .dataframe thead th {\n",
       "        text-align: right;\n",
       "    }\n",
       "</style>\n",
       "<table border=\"1\" class=\"dataframe\">\n",
       "  <thead>\n",
       "    <tr style=\"text-align: right;\">\n",
       "      <th></th>\n",
       "      <th>id</th>\n",
       "      <th>carat</th>\n",
       "      <th>cut</th>\n",
       "      <th>color</th>\n",
       "      <th>clarity</th>\n",
       "      <th>depth</th>\n",
       "      <th>table</th>\n",
       "      <th>price</th>\n",
       "      <th>x</th>\n",
       "      <th>y</th>\n",
       "      <th>z</th>\n",
       "    </tr>\n",
       "  </thead>\n",
       "  <tbody>\n",
       "    <tr>\n",
       "      <th>0</th>\n",
       "      <td>0</td>\n",
       "      <td>1.01</td>\n",
       "      <td>Very Good</td>\n",
       "      <td>E</td>\n",
       "      <td>SI2</td>\n",
       "      <td>60.0</td>\n",
       "      <td>60.0</td>\n",
       "      <td>4540</td>\n",
       "      <td>6.57</td>\n",
       "      <td>6.49</td>\n",
       "      <td>3.92</td>\n",
       "    </tr>\n",
       "    <tr>\n",
       "      <th>1</th>\n",
       "      <td>1</td>\n",
       "      <td>1.10</td>\n",
       "      <td>Premium</td>\n",
       "      <td>H</td>\n",
       "      <td>VS2</td>\n",
       "      <td>62.5</td>\n",
       "      <td>58.0</td>\n",
       "      <td>5729</td>\n",
       "      <td>6.59</td>\n",
       "      <td>6.54</td>\n",
       "      <td>4.10</td>\n",
       "    </tr>\n",
       "    <tr>\n",
       "      <th>2</th>\n",
       "      <td>2</td>\n",
       "      <td>1.50</td>\n",
       "      <td>Good</td>\n",
       "      <td>E</td>\n",
       "      <td>SI2</td>\n",
       "      <td>61.5</td>\n",
       "      <td>65.0</td>\n",
       "      <td>6300</td>\n",
       "      <td>7.21</td>\n",
       "      <td>7.17</td>\n",
       "      <td>4.42</td>\n",
       "    </tr>\n",
       "    <tr>\n",
       "      <th>3</th>\n",
       "      <td>3</td>\n",
       "      <td>1.53</td>\n",
       "      <td>Premium</td>\n",
       "      <td>E</td>\n",
       "      <td>SI1</td>\n",
       "      <td>61.3</td>\n",
       "      <td>59.0</td>\n",
       "      <td>12968</td>\n",
       "      <td>7.40</td>\n",
       "      <td>7.35</td>\n",
       "      <td>4.52</td>\n",
       "    </tr>\n",
       "    <tr>\n",
       "      <th>4</th>\n",
       "      <td>4</td>\n",
       "      <td>0.84</td>\n",
       "      <td>Fair</td>\n",
       "      <td>D</td>\n",
       "      <td>SI2</td>\n",
       "      <td>64.5</td>\n",
       "      <td>60.0</td>\n",
       "      <td>2167</td>\n",
       "      <td>5.92</td>\n",
       "      <td>5.84</td>\n",
       "      <td>3.79</td>\n",
       "    </tr>\n",
       "  </tbody>\n",
       "</table>\n",
       "</div>"
      ],
      "text/plain": [
       "   id  carat        cut color clarity  depth  table  price     x     y     z\n",
       "0   0   1.01  Very Good     E     SI2   60.0   60.0   4540  6.57  6.49  3.92\n",
       "1   1   1.10    Premium     H     VS2   62.5   58.0   5729  6.59  6.54  4.10\n",
       "2   2   1.50       Good     E     SI2   61.5   65.0   6300  7.21  7.17  4.42\n",
       "3   3   1.53    Premium     E     SI1   61.3   59.0  12968  7.40  7.35  4.52\n",
       "4   4   0.84       Fair     D     SI2   64.5   60.0   2167  5.92  5.84  3.79"
      ]
     },
     "execution_count": 5,
     "metadata": {},
     "output_type": "execute_result"
    }
   ],
   "source": [
    "c_train.head()"
   ]
  },
  {
   "cell_type": "code",
   "execution_count": 6,
   "id": "75b390a4",
   "metadata": {
    "scrolled": true
   },
   "outputs": [
    {
     "data": {
      "text/html": [
       "<div>\n",
       "<style scoped>\n",
       "    .dataframe tbody tr th:only-of-type {\n",
       "        vertical-align: middle;\n",
       "    }\n",
       "\n",
       "    .dataframe tbody tr th {\n",
       "        vertical-align: top;\n",
       "    }\n",
       "\n",
       "    .dataframe thead th {\n",
       "        text-align: right;\n",
       "    }\n",
       "</style>\n",
       "<table border=\"1\" class=\"dataframe\">\n",
       "  <thead>\n",
       "    <tr style=\"text-align: right;\">\n",
       "      <th></th>\n",
       "      <th>id</th>\n",
       "      <th>carat</th>\n",
       "      <th>depth</th>\n",
       "      <th>table</th>\n",
       "      <th>price</th>\n",
       "      <th>x</th>\n",
       "      <th>y</th>\n",
       "      <th>z</th>\n",
       "    </tr>\n",
       "  </thead>\n",
       "  <tbody>\n",
       "    <tr>\n",
       "      <th>count</th>\n",
       "      <td>43154.000000</td>\n",
       "      <td>43154.000000</td>\n",
       "      <td>43154.000000</td>\n",
       "      <td>43154.000000</td>\n",
       "      <td>43154.000000</td>\n",
       "      <td>43154.000000</td>\n",
       "      <td>43154.000000</td>\n",
       "      <td>43154.000000</td>\n",
       "    </tr>\n",
       "    <tr>\n",
       "      <th>mean</th>\n",
       "      <td>21576.500000</td>\n",
       "      <td>0.799047</td>\n",
       "      <td>61.742925</td>\n",
       "      <td>57.459010</td>\n",
       "      <td>3946.777054</td>\n",
       "      <td>5.733798</td>\n",
       "      <td>5.737574</td>\n",
       "      <td>3.539338</td>\n",
       "    </tr>\n",
       "    <tr>\n",
       "      <th>std</th>\n",
       "      <td>12457.631095</td>\n",
       "      <td>0.475214</td>\n",
       "      <td>1.428410</td>\n",
       "      <td>2.227191</td>\n",
       "      <td>3998.657385</td>\n",
       "      <td>1.123004</td>\n",
       "      <td>1.150325</td>\n",
       "      <td>0.696203</td>\n",
       "    </tr>\n",
       "    <tr>\n",
       "      <th>min</th>\n",
       "      <td>0.000000</td>\n",
       "      <td>0.200000</td>\n",
       "      <td>43.000000</td>\n",
       "      <td>43.000000</td>\n",
       "      <td>326.000000</td>\n",
       "      <td>0.000000</td>\n",
       "      <td>0.000000</td>\n",
       "      <td>0.000000</td>\n",
       "    </tr>\n",
       "    <tr>\n",
       "      <th>25%</th>\n",
       "      <td>10788.250000</td>\n",
       "      <td>0.400000</td>\n",
       "      <td>61.000000</td>\n",
       "      <td>56.000000</td>\n",
       "      <td>953.000000</td>\n",
       "      <td>4.710000</td>\n",
       "      <td>4.720000</td>\n",
       "      <td>2.910000</td>\n",
       "    </tr>\n",
       "    <tr>\n",
       "      <th>50%</th>\n",
       "      <td>21576.500000</td>\n",
       "      <td>0.700000</td>\n",
       "      <td>61.800000</td>\n",
       "      <td>57.000000</td>\n",
       "      <td>2406.500000</td>\n",
       "      <td>5.700000</td>\n",
       "      <td>5.710000</td>\n",
       "      <td>3.530000</td>\n",
       "    </tr>\n",
       "    <tr>\n",
       "      <th>75%</th>\n",
       "      <td>32364.750000</td>\n",
       "      <td>1.040000</td>\n",
       "      <td>62.500000</td>\n",
       "      <td>59.000000</td>\n",
       "      <td>5367.000000</td>\n",
       "      <td>6.540000</td>\n",
       "      <td>6.540000</td>\n",
       "      <td>4.040000</td>\n",
       "    </tr>\n",
       "    <tr>\n",
       "      <th>max</th>\n",
       "      <td>43153.000000</td>\n",
       "      <td>4.500000</td>\n",
       "      <td>79.000000</td>\n",
       "      <td>79.000000</td>\n",
       "      <td>18823.000000</td>\n",
       "      <td>10.230000</td>\n",
       "      <td>58.900000</td>\n",
       "      <td>8.060000</td>\n",
       "    </tr>\n",
       "  </tbody>\n",
       "</table>\n",
       "</div>"
      ],
      "text/plain": [
       "                 id         carat         depth         table         price  \\\n",
       "count  43154.000000  43154.000000  43154.000000  43154.000000  43154.000000   \n",
       "mean   21576.500000      0.799047     61.742925     57.459010   3946.777054   \n",
       "std    12457.631095      0.475214      1.428410      2.227191   3998.657385   \n",
       "min        0.000000      0.200000     43.000000     43.000000    326.000000   \n",
       "25%    10788.250000      0.400000     61.000000     56.000000    953.000000   \n",
       "50%    21576.500000      0.700000     61.800000     57.000000   2406.500000   \n",
       "75%    32364.750000      1.040000     62.500000     59.000000   5367.000000   \n",
       "max    43153.000000      4.500000     79.000000     79.000000  18823.000000   \n",
       "\n",
       "                  x             y             z  \n",
       "count  43154.000000  43154.000000  43154.000000  \n",
       "mean       5.733798      5.737574      3.539338  \n",
       "std        1.123004      1.150325      0.696203  \n",
       "min        0.000000      0.000000      0.000000  \n",
       "25%        4.710000      4.720000      2.910000  \n",
       "50%        5.700000      5.710000      3.530000  \n",
       "75%        6.540000      6.540000      4.040000  \n",
       "max       10.230000     58.900000      8.060000  "
      ]
     },
     "execution_count": 6,
     "metadata": {},
     "output_type": "execute_result"
    }
   ],
   "source": [
    "c_train.describe()"
   ]
  },
  {
   "cell_type": "markdown",
   "id": "cc9346c0",
   "metadata": {},
   "source": [
    "Our target variable is price of diamonds. Id is just an index that we can drop but we will need it in the final submission."
   ]
  },
  {
   "cell_type": "code",
   "execution_count": 7,
   "id": "0769abdf",
   "metadata": {},
   "outputs": [],
   "source": [
    "# Concat Train and Test datasets\n",
    "\n",
    "c_train['train']  = 1\n",
    "c_test['train']  = 0\n",
    "df = pd.concat([c_train, c_test], axis=0,sort=False)"
   ]
  },
  {
   "cell_type": "markdown",
   "id": "2e5e6f41",
   "metadata": {},
   "source": [
    "# Data preprocessing"
   ]
  },
  {
   "cell_type": "markdown",
   "id": "e325d4e6",
   "metadata": {},
   "source": [
    "## Calculating the percentage of missing values of each feature"
   ]
  },
  {
   "cell_type": "code",
   "execution_count": 8,
   "id": "8da62f9d",
   "metadata": {},
   "outputs": [],
   "source": [
    "#Percentage of NAN Values \n",
    "NAN = [(c, df[c].isna().mean()*100) for c in df]\n",
    "NAN = pd.DataFrame(NAN, columns=[\"column_name\", \"percentage\"])"
   ]
  },
  {
   "cell_type": "code",
   "execution_count": 9,
   "id": "084a536f",
   "metadata": {},
   "outputs": [
    {
     "data": {
      "text/html": [
       "<div>\n",
       "<style scoped>\n",
       "    .dataframe tbody tr th:only-of-type {\n",
       "        vertical-align: middle;\n",
       "    }\n",
       "\n",
       "    .dataframe tbody tr th {\n",
       "        vertical-align: top;\n",
       "    }\n",
       "\n",
       "    .dataframe thead th {\n",
       "        text-align: right;\n",
       "    }\n",
       "</style>\n",
       "<table border=\"1\" class=\"dataframe\">\n",
       "  <thead>\n",
       "    <tr style=\"text-align: right;\">\n",
       "      <th></th>\n",
       "      <th>column_name</th>\n",
       "      <th>percentage</th>\n",
       "    </tr>\n",
       "  </thead>\n",
       "  <tbody>\n",
       "    <tr>\n",
       "      <th>0</th>\n",
       "      <td>id</td>\n",
       "      <td>0.000000</td>\n",
       "    </tr>\n",
       "    <tr>\n",
       "      <th>1</th>\n",
       "      <td>carat</td>\n",
       "      <td>0.000000</td>\n",
       "    </tr>\n",
       "    <tr>\n",
       "      <th>2</th>\n",
       "      <td>cut</td>\n",
       "      <td>0.000000</td>\n",
       "    </tr>\n",
       "    <tr>\n",
       "      <th>3</th>\n",
       "      <td>color</td>\n",
       "      <td>0.000000</td>\n",
       "    </tr>\n",
       "    <tr>\n",
       "      <th>4</th>\n",
       "      <td>clarity</td>\n",
       "      <td>0.000000</td>\n",
       "    </tr>\n",
       "    <tr>\n",
       "      <th>5</th>\n",
       "      <td>depth</td>\n",
       "      <td>0.000000</td>\n",
       "    </tr>\n",
       "    <tr>\n",
       "      <th>6</th>\n",
       "      <td>table</td>\n",
       "      <td>0.000000</td>\n",
       "    </tr>\n",
       "    <tr>\n",
       "      <th>7</th>\n",
       "      <td>price</td>\n",
       "      <td>20.000742</td>\n",
       "    </tr>\n",
       "    <tr>\n",
       "      <th>8</th>\n",
       "      <td>x</td>\n",
       "      <td>0.000000</td>\n",
       "    </tr>\n",
       "    <tr>\n",
       "      <th>9</th>\n",
       "      <td>y</td>\n",
       "      <td>0.000000</td>\n",
       "    </tr>\n",
       "    <tr>\n",
       "      <th>10</th>\n",
       "      <td>z</td>\n",
       "      <td>0.000000</td>\n",
       "    </tr>\n",
       "    <tr>\n",
       "      <th>11</th>\n",
       "      <td>train</td>\n",
       "      <td>0.000000</td>\n",
       "    </tr>\n",
       "  </tbody>\n",
       "</table>\n",
       "</div>"
      ],
      "text/plain": [
       "   column_name  percentage\n",
       "0           id    0.000000\n",
       "1        carat    0.000000\n",
       "2          cut    0.000000\n",
       "3        color    0.000000\n",
       "4      clarity    0.000000\n",
       "5        depth    0.000000\n",
       "6        table    0.000000\n",
       "7        price   20.000742\n",
       "8            x    0.000000\n",
       "9            y    0.000000\n",
       "10           z    0.000000\n",
       "11       train    0.000000"
      ]
     },
     "execution_count": 9,
     "metadata": {},
     "output_type": "execute_result"
    }
   ],
   "source": [
    "NAN"
   ]
  },
  {
   "cell_type": "markdown",
   "id": "f82fa394",
   "metadata": {},
   "source": [
    "So our dataset is pretty clean without null values."
   ]
  },
  {
   "cell_type": "markdown",
   "id": "49a573e6",
   "metadata": {},
   "source": [
    "Now we will select numerical and categorical features"
   ]
  },
  {
   "cell_type": "code",
   "execution_count": 10,
   "id": "715faeab",
   "metadata": {},
   "outputs": [],
   "source": [
    "object_columns_df = df.select_dtypes(include=['object'])\n",
    "numerical_columns_df =df.select_dtypes(exclude=['object'])"
   ]
  },
  {
   "cell_type": "code",
   "execution_count": 11,
   "id": "a4d1e4eb",
   "metadata": {},
   "outputs": [
    {
     "data": {
      "text/plain": [
       "cut        object\n",
       "color      object\n",
       "clarity    object\n",
       "dtype: object"
      ]
     },
     "execution_count": 11,
     "metadata": {},
     "output_type": "execute_result"
    }
   ],
   "source": [
    "object_columns_df.dtypes"
   ]
  },
  {
   "cell_type": "code",
   "execution_count": 12,
   "id": "101ef061",
   "metadata": {},
   "outputs": [
    {
     "data": {
      "text/plain": [
       "id         int64\n",
       "carat    float64\n",
       "depth    float64\n",
       "table    float64\n",
       "price    float64\n",
       "x        float64\n",
       "y        float64\n",
       "z        float64\n",
       "train      int64\n",
       "dtype: object"
      ]
     },
     "execution_count": 12,
     "metadata": {},
     "output_type": "execute_result"
    }
   ],
   "source": [
    "numerical_columns_df.dtypes"
   ]
  },
  {
   "cell_type": "markdown",
   "id": "3a988418",
   "metadata": {},
   "source": [
    "## Check our categorical variables "
   ]
  },
  {
   "cell_type": "code",
   "execution_count": 13,
   "id": "1b8700ad",
   "metadata": {},
   "outputs": [
    {
     "data": {
      "text/plain": [
       "G    11292\n",
       "E     9799\n",
       "F     9543\n",
       "H     8304\n",
       "D     6775\n",
       "I     5422\n",
       "J     2808\n",
       "Name: color, dtype: int64"
      ]
     },
     "execution_count": 13,
     "metadata": {},
     "output_type": "execute_result"
    },
    {
     "data": {
      "image/png": "[encoded data removed]",
      "text/plain": [
       "<Figure size 720x216 with 1 Axes>"
      ]
     },
     "metadata": {
      "needs_background": "light"
     },
     "output_type": "display_data"
    }
   ],
   "source": [
    "object_columns_df['color'].value_counts().plot(kind='bar',figsize=[10,3])\n",
    "object_columns_df['color'].value_counts() "
   ]
  },
  {
   "cell_type": "code",
   "execution_count": 14,
   "id": "0010d63b",
   "metadata": {},
   "outputs": [
    {
     "data": {
      "text/plain": [
       "SI1     13067\n",
       "VS2     12259\n",
       "SI2      9194\n",
       "VS1      8171\n",
       "VVS2     5066\n",
       "VVS1     3655\n",
       "IF       1790\n",
       "I1        741\n",
       "Name: clarity, dtype: int64"
      ]
     },
     "execution_count": 14,
     "metadata": {},
     "output_type": "execute_result"
    },
    {
     "data": {
      "image/png": "[encoded data removed]",
      "text/plain": [
       "<Figure size 720x216 with 1 Axes>"
      ]
     },
     "metadata": {
      "needs_background": "light"
     },
     "output_type": "display_data"
    }
   ],
   "source": [
    "object_columns_df['clarity'].value_counts().plot(kind='bar',figsize=[10,3])\n",
    "object_columns_df['clarity'].value_counts() "
   ]
  },
  {
   "cell_type": "code",
   "execution_count": 15,
   "id": "c74c029a",
   "metadata": {},
   "outputs": [
    {
     "data": {
      "text/plain": [
       "Ideal        21551\n",
       "Premium      13793\n",
       "Very Good    12083\n",
       "Good          4906\n",
       "Fair          1610\n",
       "Name: cut, dtype: int64"
      ]
     },
     "execution_count": 15,
     "metadata": {},
     "output_type": "execute_result"
    },
    {
     "data": {
      "image/png": "[encoded data removed]",
      "text/plain": [
       "<Figure size 720x216 with 1 Axes>"
      ]
     },
     "metadata": {
      "needs_background": "light"
     },
     "output_type": "display_data"
    }
   ],
   "source": [
    "object_columns_df['cut'].value_counts().plot(kind='bar',figsize=[10,3])\n",
    "object_columns_df['cut'].value_counts() "
   ]
  },
  {
   "cell_type": "markdown",
   "id": "9e01758a",
   "metadata": {},
   "source": [
    "## Now the next step is to encode categorical features"
   ]
  },
  {
   "cell_type": "code",
   "execution_count": 16,
   "id": "0cfbb9ee",
   "metadata": {},
   "outputs": [],
   "source": [
    "cut = {\"Ideal\" : 5, \"Premium\" : 4, \"Very Good\" : 3, \"Good\" : 2, \"Fair\" : 1}\n",
    "object_columns_df['cut'] = object_columns_df['cut'].map(cut)"
   ]
  },
  {
   "cell_type": "code",
   "execution_count": 17,
   "id": "4418e759",
   "metadata": {},
   "outputs": [],
   "source": [
    "clarity = {\"IF\" : 8, \"VVS1\" : 7, \"VVS2\" : 6, \"VS1\" : 5, \"VS2\" : 4, \"SI1\" : 3, \"SI2\" : 2, \"I1\" : 1}\n",
    "object_columns_df['clarity'] = object_columns_df['clarity'].map(clarity)"
   ]
  },
  {
   "cell_type": "code",
   "execution_count": 18,
   "id": "109120f1",
   "metadata": {},
   "outputs": [],
   "source": [
    "color = {\"D\" : 7, \"E\" : 6, \"F\" : 5, \"G\" : 4, \"H\" : 3, \"I\" : 2, \"J\" : 1}\n",
    "object_columns_df['color'] = object_columns_df['color'].map(color)"
   ]
  },
  {
   "cell_type": "code",
   "execution_count": 19,
   "id": "70cce1bb",
   "metadata": {},
   "outputs": [],
   "source": [
    "#Select categorical features\n",
    "rest_object_columns = object_columns_df.select_dtypes(include=['object'])\n",
    "#Using One hot encoder\n",
    "object_columns_df = pd.get_dummies(object_columns_df, columns=rest_object_columns.columns) "
   ]
  },
  {
   "cell_type": "code",
   "execution_count": 20,
   "id": "e01dd724",
   "metadata": {},
   "outputs": [
    {
     "data": {
      "text/html": [
       "<div>\n",
       "<style scoped>\n",
       "    .dataframe tbody tr th:only-of-type {\n",
       "        vertical-align: middle;\n",
       "    }\n",
       "\n",
       "    .dataframe tbody tr th {\n",
       "        vertical-align: top;\n",
       "    }\n",
       "\n",
       "    .dataframe thead th {\n",
       "        text-align: right;\n",
       "    }\n",
       "</style>\n",
       "<table border=\"1\" class=\"dataframe\">\n",
       "  <thead>\n",
       "    <tr style=\"text-align: right;\">\n",
       "      <th></th>\n",
       "      <th>cut</th>\n",
       "      <th>color</th>\n",
       "      <th>clarity</th>\n",
       "    </tr>\n",
       "  </thead>\n",
       "  <tbody>\n",
       "    <tr>\n",
       "      <th>0</th>\n",
       "      <td>3</td>\n",
       "      <td>6</td>\n",
       "      <td>2</td>\n",
       "    </tr>\n",
       "    <tr>\n",
       "      <th>1</th>\n",
       "      <td>4</td>\n",
       "      <td>3</td>\n",
       "      <td>4</td>\n",
       "    </tr>\n",
       "    <tr>\n",
       "      <th>2</th>\n",
       "      <td>2</td>\n",
       "      <td>6</td>\n",
       "      <td>2</td>\n",
       "    </tr>\n",
       "    <tr>\n",
       "      <th>3</th>\n",
       "      <td>4</td>\n",
       "      <td>6</td>\n",
       "      <td>3</td>\n",
       "    </tr>\n",
       "    <tr>\n",
       "      <th>4</th>\n",
       "      <td>1</td>\n",
       "      <td>7</td>\n",
       "      <td>2</td>\n",
       "    </tr>\n",
       "  </tbody>\n",
       "</table>\n",
       "</div>"
      ],
      "text/plain": [
       "   cut  color  clarity\n",
       "0    3      6        2\n",
       "1    4      3        4\n",
       "2    2      6        2\n",
       "3    4      6        3\n",
       "4    1      7        2"
      ]
     },
     "execution_count": 20,
     "metadata": {},
     "output_type": "execute_result"
    }
   ],
   "source": [
    "object_columns_df.head()"
   ]
  },
  {
   "cell_type": "markdown",
   "id": "b8df1193",
   "metadata": {},
   "source": [
    "## Concat Categorical (after encoding) and numerical features"
   ]
  },
  {
   "cell_type": "code",
   "execution_count": 21,
   "id": "fd641cec",
   "metadata": {},
   "outputs": [
    {
     "data": {
      "text/html": [
       "<div>\n",
       "<style scoped>\n",
       "    .dataframe tbody tr th:only-of-type {\n",
       "        vertical-align: middle;\n",
       "    }\n",
       "\n",
       "    .dataframe tbody tr th {\n",
       "        vertical-align: top;\n",
       "    }\n",
       "\n",
       "    .dataframe thead th {\n",
       "        text-align: right;\n",
       "    }\n",
       "</style>\n",
       "<table border=\"1\" class=\"dataframe\">\n",
       "  <thead>\n",
       "    <tr style=\"text-align: right;\">\n",
       "      <th></th>\n",
       "      <th>cut</th>\n",
       "      <th>color</th>\n",
       "      <th>clarity</th>\n",
       "      <th>id</th>\n",
       "      <th>carat</th>\n",
       "      <th>depth</th>\n",
       "      <th>table</th>\n",
       "      <th>price</th>\n",
       "      <th>x</th>\n",
       "      <th>y</th>\n",
       "      <th>z</th>\n",
       "      <th>train</th>\n",
       "    </tr>\n",
       "  </thead>\n",
       "  <tbody>\n",
       "    <tr>\n",
       "      <th>0</th>\n",
       "      <td>3</td>\n",
       "      <td>6</td>\n",
       "      <td>2</td>\n",
       "      <td>0</td>\n",
       "      <td>1.01</td>\n",
       "      <td>60.0</td>\n",
       "      <td>60.0</td>\n",
       "      <td>4540.0</td>\n",
       "      <td>6.57</td>\n",
       "      <td>6.49</td>\n",
       "      <td>3.92</td>\n",
       "      <td>1</td>\n",
       "    </tr>\n",
       "    <tr>\n",
       "      <th>1</th>\n",
       "      <td>4</td>\n",
       "      <td>3</td>\n",
       "      <td>4</td>\n",
       "      <td>1</td>\n",
       "      <td>1.10</td>\n",
       "      <td>62.5</td>\n",
       "      <td>58.0</td>\n",
       "      <td>5729.0</td>\n",
       "      <td>6.59</td>\n",
       "      <td>6.54</td>\n",
       "      <td>4.10</td>\n",
       "      <td>1</td>\n",
       "    </tr>\n",
       "    <tr>\n",
       "      <th>2</th>\n",
       "      <td>2</td>\n",
       "      <td>6</td>\n",
       "      <td>2</td>\n",
       "      <td>2</td>\n",
       "      <td>1.50</td>\n",
       "      <td>61.5</td>\n",
       "      <td>65.0</td>\n",
       "      <td>6300.0</td>\n",
       "      <td>7.21</td>\n",
       "      <td>7.17</td>\n",
       "      <td>4.42</td>\n",
       "      <td>1</td>\n",
       "    </tr>\n",
       "    <tr>\n",
       "      <th>3</th>\n",
       "      <td>4</td>\n",
       "      <td>6</td>\n",
       "      <td>3</td>\n",
       "      <td>3</td>\n",
       "      <td>1.53</td>\n",
       "      <td>61.3</td>\n",
       "      <td>59.0</td>\n",
       "      <td>12968.0</td>\n",
       "      <td>7.40</td>\n",
       "      <td>7.35</td>\n",
       "      <td>4.52</td>\n",
       "      <td>1</td>\n",
       "    </tr>\n",
       "    <tr>\n",
       "      <th>4</th>\n",
       "      <td>1</td>\n",
       "      <td>7</td>\n",
       "      <td>2</td>\n",
       "      <td>4</td>\n",
       "      <td>0.84</td>\n",
       "      <td>64.5</td>\n",
       "      <td>60.0</td>\n",
       "      <td>2167.0</td>\n",
       "      <td>5.92</td>\n",
       "      <td>5.84</td>\n",
       "      <td>3.79</td>\n",
       "      <td>1</td>\n",
       "    </tr>\n",
       "  </tbody>\n",
       "</table>\n",
       "</div>"
      ],
      "text/plain": [
       "   cut  color  clarity  id  carat  depth  table    price     x     y     z  \\\n",
       "0    3      6        2   0   1.01   60.0   60.0   4540.0  6.57  6.49  3.92   \n",
       "1    4      3        4   1   1.10   62.5   58.0   5729.0  6.59  6.54  4.10   \n",
       "2    2      6        2   2   1.50   61.5   65.0   6300.0  7.21  7.17  4.42   \n",
       "3    4      6        3   3   1.53   61.3   59.0  12968.0  7.40  7.35  4.52   \n",
       "4    1      7        2   4   0.84   64.5   60.0   2167.0  5.92  5.84  3.79   \n",
       "\n",
       "   train  \n",
       "0      1  \n",
       "1      1  \n",
       "2      1  \n",
       "3      1  \n",
       "4      1  "
      ]
     },
     "execution_count": 21,
     "metadata": {},
     "output_type": "execute_result"
    }
   ],
   "source": [
    "df_final = pd.concat([object_columns_df, numerical_columns_df], axis=1,sort=False)\n",
    "df_final.head()"
   ]
  },
  {
   "cell_type": "code",
   "execution_count": 22,
   "id": "b97d2c12",
   "metadata": {},
   "outputs": [],
   "source": [
    "df_final = df_final.drop(['id',],axis=1)\n",
    "\n",
    "df_train = df_final[df_final['train'] == 1]\n",
    "df_train = df_train.drop(['train',],axis=1)\n",
    "\n",
    "\n",
    "df_test = df_final[df_final['train'] == 0]\n",
    "df_test = df_test.drop(['price'],axis=1)\n",
    "df_test = df_test.drop(['train',],axis=1)"
   ]
  },
  {
   "cell_type": "code",
   "execution_count": 23,
   "id": "d3a35099",
   "metadata": {},
   "outputs": [
    {
     "data": {
      "text/html": [
       "<div>\n",
       "<style scoped>\n",
       "    .dataframe tbody tr th:only-of-type {\n",
       "        vertical-align: middle;\n",
       "    }\n",
       "\n",
       "    .dataframe tbody tr th {\n",
       "        vertical-align: top;\n",
       "    }\n",
       "\n",
       "    .dataframe thead th {\n",
       "        text-align: right;\n",
       "    }\n",
       "</style>\n",
       "<table border=\"1\" class=\"dataframe\">\n",
       "  <thead>\n",
       "    <tr style=\"text-align: right;\">\n",
       "      <th></th>\n",
       "      <th>cut</th>\n",
       "      <th>color</th>\n",
       "      <th>clarity</th>\n",
       "      <th>carat</th>\n",
       "      <th>depth</th>\n",
       "      <th>table</th>\n",
       "      <th>price</th>\n",
       "      <th>x</th>\n",
       "      <th>y</th>\n",
       "      <th>z</th>\n",
       "    </tr>\n",
       "  </thead>\n",
       "  <tbody>\n",
       "    <tr>\n",
       "      <th>0</th>\n",
       "      <td>3</td>\n",
       "      <td>6</td>\n",
       "      <td>2</td>\n",
       "      <td>1.01</td>\n",
       "      <td>60.0</td>\n",
       "      <td>60.0</td>\n",
       "      <td>4540.0</td>\n",
       "      <td>6.57</td>\n",
       "      <td>6.49</td>\n",
       "      <td>3.92</td>\n",
       "    </tr>\n",
       "    <tr>\n",
       "      <th>1</th>\n",
       "      <td>4</td>\n",
       "      <td>3</td>\n",
       "      <td>4</td>\n",
       "      <td>1.10</td>\n",
       "      <td>62.5</td>\n",
       "      <td>58.0</td>\n",
       "      <td>5729.0</td>\n",
       "      <td>6.59</td>\n",
       "      <td>6.54</td>\n",
       "      <td>4.10</td>\n",
       "    </tr>\n",
       "    <tr>\n",
       "      <th>2</th>\n",
       "      <td>2</td>\n",
       "      <td>6</td>\n",
       "      <td>2</td>\n",
       "      <td>1.50</td>\n",
       "      <td>61.5</td>\n",
       "      <td>65.0</td>\n",
       "      <td>6300.0</td>\n",
       "      <td>7.21</td>\n",
       "      <td>7.17</td>\n",
       "      <td>4.42</td>\n",
       "    </tr>\n",
       "    <tr>\n",
       "      <th>3</th>\n",
       "      <td>4</td>\n",
       "      <td>6</td>\n",
       "      <td>3</td>\n",
       "      <td>1.53</td>\n",
       "      <td>61.3</td>\n",
       "      <td>59.0</td>\n",
       "      <td>12968.0</td>\n",
       "      <td>7.40</td>\n",
       "      <td>7.35</td>\n",
       "      <td>4.52</td>\n",
       "    </tr>\n",
       "    <tr>\n",
       "      <th>4</th>\n",
       "      <td>1</td>\n",
       "      <td>7</td>\n",
       "      <td>2</td>\n",
       "      <td>0.84</td>\n",
       "      <td>64.5</td>\n",
       "      <td>60.0</td>\n",
       "      <td>2167.0</td>\n",
       "      <td>5.92</td>\n",
       "      <td>5.84</td>\n",
       "      <td>3.79</td>\n",
       "    </tr>\n",
       "    <tr>\n",
       "      <th>...</th>\n",
       "      <td>...</td>\n",
       "      <td>...</td>\n",
       "      <td>...</td>\n",
       "      <td>...</td>\n",
       "      <td>...</td>\n",
       "      <td>...</td>\n",
       "      <td>...</td>\n",
       "      <td>...</td>\n",
       "      <td>...</td>\n",
       "      <td>...</td>\n",
       "    </tr>\n",
       "    <tr>\n",
       "      <th>43149</th>\n",
       "      <td>3</td>\n",
       "      <td>2</td>\n",
       "      <td>4</td>\n",
       "      <td>1.05</td>\n",
       "      <td>62.4</td>\n",
       "      <td>59.0</td>\n",
       "      <td>4975.0</td>\n",
       "      <td>6.48</td>\n",
       "      <td>6.51</td>\n",
       "      <td>4.05</td>\n",
       "    </tr>\n",
       "    <tr>\n",
       "      <th>43150</th>\n",
       "      <td>5</td>\n",
       "      <td>7</td>\n",
       "      <td>5</td>\n",
       "      <td>0.47</td>\n",
       "      <td>61.0</td>\n",
       "      <td>55.0</td>\n",
       "      <td>1617.0</td>\n",
       "      <td>5.03</td>\n",
       "      <td>5.01</td>\n",
       "      <td>3.06</td>\n",
       "    </tr>\n",
       "    <tr>\n",
       "      <th>43151</th>\n",
       "      <td>3</td>\n",
       "      <td>5</td>\n",
       "      <td>8</td>\n",
       "      <td>0.33</td>\n",
       "      <td>60.3</td>\n",
       "      <td>58.0</td>\n",
       "      <td>1014.0</td>\n",
       "      <td>4.49</td>\n",
       "      <td>4.46</td>\n",
       "      <td>2.70</td>\n",
       "    </tr>\n",
       "    <tr>\n",
       "      <th>43152</th>\n",
       "      <td>4</td>\n",
       "      <td>1</td>\n",
       "      <td>3</td>\n",
       "      <td>0.90</td>\n",
       "      <td>62.8</td>\n",
       "      <td>59.0</td>\n",
       "      <td>2871.0</td>\n",
       "      <td>6.13</td>\n",
       "      <td>6.03</td>\n",
       "      <td>3.82</td>\n",
       "    </tr>\n",
       "    <tr>\n",
       "      <th>43153</th>\n",
       "      <td>4</td>\n",
       "      <td>5</td>\n",
       "      <td>3</td>\n",
       "      <td>1.14</td>\n",
       "      <td>60.4</td>\n",
       "      <td>58.0</td>\n",
       "      <td>6320.0</td>\n",
       "      <td>6.82</td>\n",
       "      <td>6.79</td>\n",
       "      <td>4.11</td>\n",
       "    </tr>\n",
       "  </tbody>\n",
       "</table>\n",
       "<p>43154 rows × 10 columns</p>\n",
       "</div>"
      ],
      "text/plain": [
       "       cut  color  clarity  carat  depth  table    price     x     y     z\n",
       "0        3      6        2   1.01   60.0   60.0   4540.0  6.57  6.49  3.92\n",
       "1        4      3        4   1.10   62.5   58.0   5729.0  6.59  6.54  4.10\n",
       "2        2      6        2   1.50   61.5   65.0   6300.0  7.21  7.17  4.42\n",
       "3        4      6        3   1.53   61.3   59.0  12968.0  7.40  7.35  4.52\n",
       "4        1      7        2   0.84   64.5   60.0   2167.0  5.92  5.84  3.79\n",
       "...    ...    ...      ...    ...    ...    ...      ...   ...   ...   ...\n",
       "43149    3      2        4   1.05   62.4   59.0   4975.0  6.48  6.51  4.05\n",
       "43150    5      7        5   0.47   61.0   55.0   1617.0  5.03  5.01  3.06\n",
       "43151    3      5        8   0.33   60.3   58.0   1014.0  4.49  4.46  2.70\n",
       "43152    4      1        3   0.90   62.8   59.0   2871.0  6.13  6.03  3.82\n",
       "43153    4      5        3   1.14   60.4   58.0   6320.0  6.82  6.79  4.11\n",
       "\n",
       "[43154 rows x 10 columns]"
      ]
     },
     "execution_count": 23,
     "metadata": {},
     "output_type": "execute_result"
    }
   ],
   "source": [
    "df_train"
   ]
  },
  {
   "cell_type": "code",
   "execution_count": 24,
   "id": "432171a6",
   "metadata": {
    "scrolled": true
   },
   "outputs": [
    {
     "data": {
      "text/html": [
       "<div>\n",
       "<style scoped>\n",
       "    .dataframe tbody tr th:only-of-type {\n",
       "        vertical-align: middle;\n",
       "    }\n",
       "\n",
       "    .dataframe tbody tr th {\n",
       "        vertical-align: top;\n",
       "    }\n",
       "\n",
       "    .dataframe thead th {\n",
       "        text-align: right;\n",
       "    }\n",
       "</style>\n",
       "<table border=\"1\" class=\"dataframe\">\n",
       "  <thead>\n",
       "    <tr style=\"text-align: right;\">\n",
       "      <th></th>\n",
       "      <th>cut</th>\n",
       "      <th>color</th>\n",
       "      <th>clarity</th>\n",
       "      <th>carat</th>\n",
       "      <th>depth</th>\n",
       "      <th>table</th>\n",
       "      <th>x</th>\n",
       "      <th>y</th>\n",
       "      <th>z</th>\n",
       "    </tr>\n",
       "  </thead>\n",
       "  <tbody>\n",
       "    <tr>\n",
       "      <th>0</th>\n",
       "      <td>5</td>\n",
       "      <td>4</td>\n",
       "      <td>7</td>\n",
       "      <td>0.24</td>\n",
       "      <td>62.1</td>\n",
       "      <td>56.0</td>\n",
       "      <td>3.97</td>\n",
       "      <td>4.00</td>\n",
       "      <td>2.47</td>\n",
       "    </tr>\n",
       "    <tr>\n",
       "      <th>1</th>\n",
       "      <td>3</td>\n",
       "      <td>5</td>\n",
       "      <td>4</td>\n",
       "      <td>1.21</td>\n",
       "      <td>62.9</td>\n",
       "      <td>54.0</td>\n",
       "      <td>6.78</td>\n",
       "      <td>6.82</td>\n",
       "      <td>4.28</td>\n",
       "    </tr>\n",
       "    <tr>\n",
       "      <th>2</th>\n",
       "      <td>1</td>\n",
       "      <td>6</td>\n",
       "      <td>3</td>\n",
       "      <td>0.50</td>\n",
       "      <td>61.7</td>\n",
       "      <td>68.0</td>\n",
       "      <td>5.09</td>\n",
       "      <td>5.03</td>\n",
       "      <td>3.12</td>\n",
       "    </tr>\n",
       "    <tr>\n",
       "      <th>3</th>\n",
       "      <td>5</td>\n",
       "      <td>7</td>\n",
       "      <td>2</td>\n",
       "      <td>0.50</td>\n",
       "      <td>62.8</td>\n",
       "      <td>56.0</td>\n",
       "      <td>5.06</td>\n",
       "      <td>5.03</td>\n",
       "      <td>3.17</td>\n",
       "    </tr>\n",
       "    <tr>\n",
       "      <th>4</th>\n",
       "      <td>5</td>\n",
       "      <td>6</td>\n",
       "      <td>2</td>\n",
       "      <td>1.55</td>\n",
       "      <td>62.3</td>\n",
       "      <td>55.0</td>\n",
       "      <td>7.44</td>\n",
       "      <td>7.37</td>\n",
       "      <td>4.61</td>\n",
       "    </tr>\n",
       "    <tr>\n",
       "      <th>...</th>\n",
       "      <td>...</td>\n",
       "      <td>...</td>\n",
       "      <td>...</td>\n",
       "      <td>...</td>\n",
       "      <td>...</td>\n",
       "      <td>...</td>\n",
       "      <td>...</td>\n",
       "      <td>...</td>\n",
       "      <td>...</td>\n",
       "    </tr>\n",
       "    <tr>\n",
       "      <th>10784</th>\n",
       "      <td>5</td>\n",
       "      <td>5</td>\n",
       "      <td>4</td>\n",
       "      <td>0.53</td>\n",
       "      <td>62.3</td>\n",
       "      <td>55.0</td>\n",
       "      <td>5.20</td>\n",
       "      <td>5.17</td>\n",
       "      <td>3.23</td>\n",
       "    </tr>\n",
       "    <tr>\n",
       "      <th>10785</th>\n",
       "      <td>4</td>\n",
       "      <td>4</td>\n",
       "      <td>3</td>\n",
       "      <td>0.41</td>\n",
       "      <td>61.3</td>\n",
       "      <td>60.0</td>\n",
       "      <td>4.75</td>\n",
       "      <td>4.81</td>\n",
       "      <td>2.93</td>\n",
       "    </tr>\n",
       "    <tr>\n",
       "      <th>10786</th>\n",
       "      <td>4</td>\n",
       "      <td>4</td>\n",
       "      <td>4</td>\n",
       "      <td>0.51</td>\n",
       "      <td>62.4</td>\n",
       "      <td>58.0</td>\n",
       "      <td>5.11</td>\n",
       "      <td>5.12</td>\n",
       "      <td>3.19</td>\n",
       "    </tr>\n",
       "    <tr>\n",
       "      <th>10787</th>\n",
       "      <td>2</td>\n",
       "      <td>1</td>\n",
       "      <td>2</td>\n",
       "      <td>1.08</td>\n",
       "      <td>63.2</td>\n",
       "      <td>59.0</td>\n",
       "      <td>6.40</td>\n",
       "      <td>6.57</td>\n",
       "      <td>4.10</td>\n",
       "    </tr>\n",
       "    <tr>\n",
       "      <th>10788</th>\n",
       "      <td>5</td>\n",
       "      <td>6</td>\n",
       "      <td>6</td>\n",
       "      <td>0.30</td>\n",
       "      <td>60.9</td>\n",
       "      <td>57.0</td>\n",
       "      <td>4.32</td>\n",
       "      <td>4.35</td>\n",
       "      <td>2.64</td>\n",
       "    </tr>\n",
       "  </tbody>\n",
       "</table>\n",
       "<p>10789 rows × 9 columns</p>\n",
       "</div>"
      ],
      "text/plain": [
       "       cut  color  clarity  carat  depth  table     x     y     z\n",
       "0        5      4        7   0.24   62.1   56.0  3.97  4.00  2.47\n",
       "1        3      5        4   1.21   62.9   54.0  6.78  6.82  4.28\n",
       "2        1      6        3   0.50   61.7   68.0  5.09  5.03  3.12\n",
       "3        5      7        2   0.50   62.8   56.0  5.06  5.03  3.17\n",
       "4        5      6        2   1.55   62.3   55.0  7.44  7.37  4.61\n",
       "...    ...    ...      ...    ...    ...    ...   ...   ...   ...\n",
       "10784    5      5        4   0.53   62.3   55.0  5.20  5.17  3.23\n",
       "10785    4      4        3   0.41   61.3   60.0  4.75  4.81  2.93\n",
       "10786    4      4        4   0.51   62.4   58.0  5.11  5.12  3.19\n",
       "10787    2      1        2   1.08   63.2   59.0  6.40  6.57  4.10\n",
       "10788    5      6        6   0.30   60.9   57.0  4.32  4.35  2.64\n",
       "\n",
       "[10789 rows x 9 columns]"
      ]
     },
     "execution_count": 24,
     "metadata": {},
     "output_type": "execute_result"
    }
   ],
   "source": [
    "df_test"
   ]
  },
  {
   "cell_type": "markdown",
   "id": "c1b5975c",
   "metadata": {},
   "source": [
    "## Distribution of Price"
   ]
  },
  {
   "cell_type": "code",
   "execution_count": 25,
   "id": "d40a1303",
   "metadata": {},
   "outputs": [
    {
     "data": {
      "text/plain": [
       "(array([20249.,  7402.,  5909.,  3129.,  1908.,  1401.,  1067.,   820.,\n",
       "          688.,   581.]),\n",
       " array([  326. ,  2175.7,  4025.4,  5875.1,  7724.8,  9574.5, 11424.2,\n",
       "        13273.9, 15123.6, 16973.3, 18823. ]),\n",
       " <BarContainer object of 10 artists>)"
      ]
     },
     "execution_count": 25,
     "metadata": {},
     "output_type": "execute_result"
    },
    {
     "data": {
      "image/png": "[encoded data removed]",
      "text/plain": [
       "<Figure size 432x288 with 1 Axes>"
      ]
     },
     "metadata": {
      "needs_background": "light"
     },
     "output_type": "display_data"
    }
   ],
   "source": [
    "plt.hist(df_train['price'])"
   ]
  },
  {
   "cell_type": "markdown",
   "id": "e12a4e97",
   "metadata": {},
   "source": [
    "## Check for Correlations"
   ]
  },
  {
   "cell_type": "code",
   "execution_count": 26,
   "id": "523d0add",
   "metadata": {
    "scrolled": false
   },
   "outputs": [
    {
     "data": {
      "text/html": [
       "<div>\n",
       "<style scoped>\n",
       "    .dataframe tbody tr th:only-of-type {\n",
       "        vertical-align: middle;\n",
       "    }\n",
       "\n",
       "    .dataframe tbody tr th {\n",
       "        vertical-align: top;\n",
       "    }\n",
       "\n",
       "    .dataframe thead th {\n",
       "        text-align: right;\n",
       "    }\n",
       "</style>\n",
       "<table border=\"1\" class=\"dataframe\">\n",
       "  <thead>\n",
       "    <tr style=\"text-align: right;\">\n",
       "      <th></th>\n",
       "      <th>cut</th>\n",
       "      <th>color</th>\n",
       "      <th>clarity</th>\n",
       "      <th>carat</th>\n",
       "      <th>depth</th>\n",
       "      <th>table</th>\n",
       "      <th>price</th>\n",
       "      <th>x</th>\n",
       "      <th>y</th>\n",
       "      <th>z</th>\n",
       "      <th>train</th>\n",
       "    </tr>\n",
       "  </thead>\n",
       "  <tbody>\n",
       "    <tr>\n",
       "      <th>cut</th>\n",
       "      <td>1.000000</td>\n",
       "      <td>0.020506</td>\n",
       "      <td>0.189171</td>\n",
       "      <td>-0.134964</td>\n",
       "      <td>-0.218037</td>\n",
       "      <td>-0.433387</td>\n",
       "      <td>-0.053291</td>\n",
       "      <td>-0.125564</td>\n",
       "      <td>-0.121461</td>\n",
       "      <td>-0.149320</td>\n",
       "      <td>0.001833</td>\n",
       "    </tr>\n",
       "    <tr>\n",
       "      <th>color</th>\n",
       "      <td>0.020506</td>\n",
       "      <td>1.000000</td>\n",
       "      <td>-0.025646</td>\n",
       "      <td>-0.291439</td>\n",
       "      <td>-0.047316</td>\n",
       "      <td>-0.026457</td>\n",
       "      <td>-0.171962</td>\n",
       "      <td>-0.270281</td>\n",
       "      <td>-0.263579</td>\n",
       "      <td>-0.268226</td>\n",
       "      <td>0.001062</td>\n",
       "    </tr>\n",
       "    <tr>\n",
       "      <th>clarity</th>\n",
       "      <td>0.189171</td>\n",
       "      <td>-0.025646</td>\n",
       "      <td>1.000000</td>\n",
       "      <td>-0.352833</td>\n",
       "      <td>-0.067355</td>\n",
       "      <td>-0.160328</td>\n",
       "      <td>-0.145394</td>\n",
       "      <td>-0.371996</td>\n",
       "      <td>-0.358417</td>\n",
       "      <td>-0.366946</td>\n",
       "      <td>0.005206</td>\n",
       "    </tr>\n",
       "    <tr>\n",
       "      <th>carat</th>\n",
       "      <td>-0.134964</td>\n",
       "      <td>-0.291439</td>\n",
       "      <td>-0.352833</td>\n",
       "      <td>1.000000</td>\n",
       "      <td>0.028234</td>\n",
       "      <td>0.181602</td>\n",
       "      <td>0.921273</td>\n",
       "      <td>0.975093</td>\n",
       "      <td>0.951721</td>\n",
       "      <td>0.953387</td>\n",
       "      <td>0.004692</td>\n",
       "    </tr>\n",
       "    <tr>\n",
       "      <th>depth</th>\n",
       "      <td>-0.218037</td>\n",
       "      <td>-0.047316</td>\n",
       "      <td>-0.067355</td>\n",
       "      <td>0.028234</td>\n",
       "      <td>1.000000</td>\n",
       "      <td>-0.295798</td>\n",
       "      <td>-0.009905</td>\n",
       "      <td>-0.025289</td>\n",
       "      <td>-0.029340</td>\n",
       "      <td>0.094927</td>\n",
       "      <td>-0.008930</td>\n",
       "    </tr>\n",
       "    <tr>\n",
       "      <th>table</th>\n",
       "      <td>-0.433387</td>\n",
       "      <td>-0.026457</td>\n",
       "      <td>-0.160328</td>\n",
       "      <td>0.181602</td>\n",
       "      <td>-0.295798</td>\n",
       "      <td>1.000000</td>\n",
       "      <td>0.124965</td>\n",
       "      <td>0.195333</td>\n",
       "      <td>0.183750</td>\n",
       "      <td>0.150915</td>\n",
       "      <td>0.001574</td>\n",
       "    </tr>\n",
       "    <tr>\n",
       "      <th>price</th>\n",
       "      <td>-0.053291</td>\n",
       "      <td>-0.171962</td>\n",
       "      <td>-0.145394</td>\n",
       "      <td>0.921273</td>\n",
       "      <td>-0.009905</td>\n",
       "      <td>0.124965</td>\n",
       "      <td>1.000000</td>\n",
       "      <td>0.884983</td>\n",
       "      <td>0.861052</td>\n",
       "      <td>0.874976</td>\n",
       "      <td>NaN</td>\n",
       "    </tr>\n",
       "    <tr>\n",
       "      <th>x</th>\n",
       "      <td>-0.125564</td>\n",
       "      <td>-0.270281</td>\n",
       "      <td>-0.371996</td>\n",
       "      <td>0.975093</td>\n",
       "      <td>-0.025289</td>\n",
       "      <td>0.195333</td>\n",
       "      <td>0.884983</td>\n",
       "      <td>1.000000</td>\n",
       "      <td>0.974701</td>\n",
       "      <td>0.970771</td>\n",
       "      <td>0.004708</td>\n",
       "    </tr>\n",
       "    <tr>\n",
       "      <th>y</th>\n",
       "      <td>-0.121461</td>\n",
       "      <td>-0.263579</td>\n",
       "      <td>-0.358417</td>\n",
       "      <td>0.951721</td>\n",
       "      <td>-0.029340</td>\n",
       "      <td>0.183750</td>\n",
       "      <td>0.861052</td>\n",
       "      <td>0.974701</td>\n",
       "      <td>1.000000</td>\n",
       "      <td>0.952005</td>\n",
       "      <td>0.005337</td>\n",
       "    </tr>\n",
       "    <tr>\n",
       "      <th>z</th>\n",
       "      <td>-0.149320</td>\n",
       "      <td>-0.268226</td>\n",
       "      <td>-0.366946</td>\n",
       "      <td>0.953387</td>\n",
       "      <td>0.094927</td>\n",
       "      <td>0.150915</td>\n",
       "      <td>0.874976</td>\n",
       "      <td>0.970771</td>\n",
       "      <td>0.952005</td>\n",
       "      <td>1.000000</td>\n",
       "      <td>0.001724</td>\n",
       "    </tr>\n",
       "    <tr>\n",
       "      <th>train</th>\n",
       "      <td>0.001833</td>\n",
       "      <td>0.001062</td>\n",
       "      <td>0.005206</td>\n",
       "      <td>0.004692</td>\n",
       "      <td>-0.008930</td>\n",
       "      <td>0.001574</td>\n",
       "      <td>NaN</td>\n",
       "      <td>0.004708</td>\n",
       "      <td>0.005337</td>\n",
       "      <td>0.001724</td>\n",
       "      <td>1.000000</td>\n",
       "    </tr>\n",
       "  </tbody>\n",
       "</table>\n",
       "</div>"
      ],
      "text/plain": [
       "              cut     color   clarity     carat     depth     table     price  \\\n",
       "cut      1.000000  0.020506  0.189171 -0.134964 -0.218037 -0.433387 -0.053291   \n",
       "color    0.020506  1.000000 -0.025646 -0.291439 -0.047316 -0.026457 -0.171962   \n",
       "clarity  0.189171 -0.025646  1.000000 -0.352833 -0.067355 -0.160328 -0.145394   \n",
       "carat   -0.134964 -0.291439 -0.352833  1.000000  0.028234  0.181602  0.921273   \n",
       "depth   -0.218037 -0.047316 -0.067355  0.028234  1.000000 -0.295798 -0.009905   \n",
       "table   -0.433387 -0.026457 -0.160328  0.181602 -0.295798  1.000000  0.124965   \n",
       "price   -0.053291 -0.171962 -0.145394  0.921273 -0.009905  0.124965  1.000000   \n",
       "x       -0.125564 -0.270281 -0.371996  0.975093 -0.025289  0.195333  0.884983   \n",
       "y       -0.121461 -0.263579 -0.358417  0.951721 -0.029340  0.183750  0.861052   \n",
       "z       -0.149320 -0.268226 -0.366946  0.953387  0.094927  0.150915  0.874976   \n",
       "train    0.001833  0.001062  0.005206  0.004692 -0.008930  0.001574       NaN   \n",
       "\n",
       "                x         y         z     train  \n",
       "cut     -0.125564 -0.121461 -0.149320  0.001833  \n",
       "color   -0.270281 -0.263579 -0.268226  0.001062  \n",
       "clarity -0.371996 -0.358417 -0.366946  0.005206  \n",
       "carat    0.975093  0.951721  0.953387  0.004692  \n",
       "depth   -0.025289 -0.029340  0.094927 -0.008930  \n",
       "table    0.195333  0.183750  0.150915  0.001574  \n",
       "price    0.884983  0.861052  0.874976       NaN  \n",
       "x        1.000000  0.974701  0.970771  0.004708  \n",
       "y        0.974701  1.000000  0.952005  0.005337  \n",
       "z        0.970771  0.952005  1.000000  0.001724  \n",
       "train    0.004708  0.005337  0.001724  1.000000  "
      ]
     },
     "execution_count": 26,
     "metadata": {},
     "output_type": "execute_result"
    }
   ],
   "source": [
    "corr = df_final.corr()\n",
    "corr"
   ]
  },
  {
   "cell_type": "code",
   "execution_count": 27,
   "id": "53bd4000",
   "metadata": {},
   "outputs": [
    {
     "data": {
      "text/plain": [
       "<AxesSubplot:>"
      ]
     },
     "execution_count": 27,
     "metadata": {},
     "output_type": "execute_result"
    },
    {
     "data": {
      "image/png": "[encoded data removed]",
      "text/plain": [
       "<Figure size 1152x360 with 2 Axes>"
      ]
     },
     "metadata": {
      "needs_background": "light"
     },
     "output_type": "display_data"
    }
   ],
   "source": [
    "plt.figure(figsize = (16,5))\n",
    "sns.heatmap(corr,annot=True,lw=1)"
   ]
  },
  {
   "cell_type": "markdown",
   "id": "6e39c954",
   "metadata": {},
   "source": [
    "From the above plot, we can see that x, y and z are strongly correlated to one another. Meanwhile, x, y and z are also related to carat of the diamonds. These four variables have high correlation with price of diamonds. "
   ]
  },
  {
   "cell_type": "code",
   "execution_count": 37,
   "id": "511d15fc",
   "metadata": {},
   "outputs": [
    {
     "data": {
      "text/html": [
       "<div>\n",
       "<style scoped>\n",
       "    .dataframe tbody tr th:only-of-type {\n",
       "        vertical-align: middle;\n",
       "    }\n",
       "\n",
       "    .dataframe tbody tr th {\n",
       "        vertical-align: top;\n",
       "    }\n",
       "\n",
       "    .dataframe thead th {\n",
       "        text-align: right;\n",
       "    }\n",
       "</style>\n",
       "<table border=\"1\" class=\"dataframe\">\n",
       "  <thead>\n",
       "    <tr style=\"text-align: right;\">\n",
       "      <th></th>\n",
       "      <th>cut</th>\n",
       "      <th>color</th>\n",
       "      <th>clarity</th>\n",
       "      <th>carat</th>\n",
       "      <th>depth</th>\n",
       "      <th>table</th>\n",
       "      <th>price</th>\n",
       "      <th>x</th>\n",
       "      <th>y</th>\n",
       "      <th>z</th>\n",
       "    </tr>\n",
       "  </thead>\n",
       "  <tbody>\n",
       "    <tr>\n",
       "      <th>0</th>\n",
       "      <td>-0.811526</td>\n",
       "      <td>0.936117</td>\n",
       "      <td>-1.249802</td>\n",
       "      <td>0.443917</td>\n",
       "      <td>-1.220200</td>\n",
       "      <td>1.140908</td>\n",
       "      <td>0.148357</td>\n",
       "      <td>0.744620</td>\n",
       "      <td>0.654106</td>\n",
       "      <td>0.546775</td>\n",
       "    </tr>\n",
       "    <tr>\n",
       "      <th>1</th>\n",
       "      <td>0.085082</td>\n",
       "      <td>-0.826567</td>\n",
       "      <td>-0.033608</td>\n",
       "      <td>0.633308</td>\n",
       "      <td>0.530018</td>\n",
       "      <td>0.242905</td>\n",
       "      <td>0.445711</td>\n",
       "      <td>0.762429</td>\n",
       "      <td>0.697573</td>\n",
       "      <td>0.805323</td>\n",
       "    </tr>\n",
       "  </tbody>\n",
       "</table>\n",
       "</div>"
      ],
      "text/plain": [
       "        cut     color   clarity     carat     depth     table     price  \\\n",
       "0 -0.811526  0.936117 -1.249802  0.443917 -1.220200  1.140908  0.148357   \n",
       "1  0.085082 -0.826567 -0.033608  0.633308  0.530018  0.242905  0.445711   \n",
       "\n",
       "          x         y         z  \n",
       "0  0.744620  0.654106  0.546775  \n",
       "1  0.762429  0.697573  0.805323  "
      ]
     },
     "execution_count": 37,
     "metadata": {},
     "output_type": "execute_result"
    }
   ],
   "source": [
    "from sklearn.decomposition import PCA\n",
    "df_st =  StandardScaler().fit_transform(df_train)  \n",
    "pd.DataFrame(df_st, columns=df_train.columns).head(2)"
   ]
  },
  {
   "cell_type": "code",
   "execution_count": 40,
   "id": "d0512337",
   "metadata": {},
   "outputs": [
    {
     "data": {
      "text/plain": [
       "array([0.50198894, 0.64590854, 0.76921789, 0.86797067, 0.94516574,\n",
       "       0.98086405, 0.99344758, 0.99738296, 0.9993432 , 1.        ])"
      ]
     },
     "execution_count": 40,
     "metadata": {},
     "output_type": "execute_result"
    }
   ],
   "source": [
    "pca_out = PCA().fit(df_st)\n",
    "np.cumsum(pca_out.explained_variance_ratio_)"
   ]
  },
  {
   "cell_type": "code",
   "execution_count": 42,
   "id": "43a805e5",
   "metadata": {},
   "outputs": [
    {
     "data": {
      "text/html": [
       "<div>\n",
       "<style scoped>\n",
       "    .dataframe tbody tr th:only-of-type {\n",
       "        vertical-align: middle;\n",
       "    }\n",
       "\n",
       "    .dataframe tbody tr th {\n",
       "        vertical-align: top;\n",
       "    }\n",
       "\n",
       "    .dataframe thead th {\n",
       "        text-align: right;\n",
       "    }\n",
       "</style>\n",
       "<table border=\"1\" class=\"dataframe\">\n",
       "  <thead>\n",
       "    <tr style=\"text-align: right;\">\n",
       "      <th></th>\n",
       "      <th>PC1</th>\n",
       "      <th>PC2</th>\n",
       "      <th>PC3</th>\n",
       "      <th>PC4</th>\n",
       "      <th>PC5</th>\n",
       "      <th>PC6</th>\n",
       "      <th>PC7</th>\n",
       "      <th>PC8</th>\n",
       "      <th>PC9</th>\n",
       "      <th>PC10</th>\n",
       "    </tr>\n",
       "    <tr>\n",
       "      <th>variable</th>\n",
       "      <th></th>\n",
       "      <th></th>\n",
       "      <th></th>\n",
       "      <th></th>\n",
       "      <th></th>\n",
       "      <th></th>\n",
       "      <th></th>\n",
       "      <th></th>\n",
       "      <th></th>\n",
       "      <th></th>\n",
       "    </tr>\n",
       "  </thead>\n",
       "  <tbody>\n",
       "    <tr>\n",
       "      <th>cut</th>\n",
       "      <td>-0.083775</td>\n",
       "      <td>-0.624479</td>\n",
       "      <td>0.391528</td>\n",
       "      <td>-0.215056</td>\n",
       "      <td>-0.246125</td>\n",
       "      <td>0.584325</td>\n",
       "      <td>0.036927</td>\n",
       "      <td>-0.002378</td>\n",
       "      <td>0.008766</td>\n",
       "      <td>-0.002476</td>\n",
       "    </tr>\n",
       "    <tr>\n",
       "      <th>color</th>\n",
       "      <td>-0.136893</td>\n",
       "      <td>0.151324</td>\n",
       "      <td>0.045195</td>\n",
       "      <td>-0.814648</td>\n",
       "      <td>0.525657</td>\n",
       "      <td>0.025735</td>\n",
       "      <td>0.106207</td>\n",
       "      <td>-0.042449</td>\n",
       "      <td>0.050860</td>\n",
       "      <td>-0.004601</td>\n",
       "    </tr>\n",
       "    <tr>\n",
       "      <th>clarity</th>\n",
       "      <td>-0.179679</td>\n",
       "      <td>-0.273581</td>\n",
       "      <td>0.223362</td>\n",
       "      <td>0.500451</td>\n",
       "      <td>0.733318</td>\n",
       "      <td>0.010396</td>\n",
       "      <td>0.218225</td>\n",
       "      <td>-0.063648</td>\n",
       "      <td>0.054682</td>\n",
       "      <td>0.000594</td>\n",
       "    </tr>\n",
       "    <tr>\n",
       "      <th>carat</th>\n",
       "      <td>0.440199</td>\n",
       "      <td>-0.060982</td>\n",
       "      <td>0.006891</td>\n",
       "      <td>-0.007271</td>\n",
       "      <td>0.045884</td>\n",
       "      <td>0.005828</td>\n",
       "      <td>-0.156314</td>\n",
       "      <td>-0.334871</td>\n",
       "      <td>0.799060</td>\n",
       "      <td>-0.158732</td>\n",
       "    </tr>\n",
       "    <tr>\n",
       "      <th>depth</th>\n",
       "      <td>0.007692</td>\n",
       "      <td>-0.143904</td>\n",
       "      <td>-0.835809</td>\n",
       "      <td>0.045978</td>\n",
       "      <td>0.161242</td>\n",
       "      <td>0.491077</td>\n",
       "      <td>0.021069</td>\n",
       "      <td>0.057132</td>\n",
       "      <td>0.024351</td>\n",
       "      <td>0.084174</td>\n",
       "    </tr>\n",
       "    <tr>\n",
       "      <th>table</th>\n",
       "      <td>0.106160</td>\n",
       "      <td>0.678371</td>\n",
       "      <td>0.283271</td>\n",
       "      <td>0.181903</td>\n",
       "      <td>0.058304</td>\n",
       "      <td>0.641388</td>\n",
       "      <td>0.010797</td>\n",
       "      <td>0.016322</td>\n",
       "      <td>-0.006955</td>\n",
       "      <td>-0.001919</td>\n",
       "    </tr>\n",
       "    <tr>\n",
       "      <th>price</th>\n",
       "      <td>0.402964</td>\n",
       "      <td>-0.138395</td>\n",
       "      <td>0.090289</td>\n",
       "      <td>-0.022223</td>\n",
       "      <td>0.302587</td>\n",
       "      <td>0.021823</td>\n",
       "      <td>-0.755169</td>\n",
       "      <td>0.253848</td>\n",
       "      <td>-0.286850</td>\n",
       "      <td>0.028003</td>\n",
       "    </tr>\n",
       "    <tr>\n",
       "      <th>x</th>\n",
       "      <td>0.440901</td>\n",
       "      <td>-0.044190</td>\n",
       "      <td>0.045263</td>\n",
       "      <td>-0.037497</td>\n",
       "      <td>0.015867</td>\n",
       "      <td>-0.031765</td>\n",
       "      <td>0.238518</td>\n",
       "      <td>-0.362854</td>\n",
       "      <td>-0.203224</td>\n",
       "      <td>0.754377</td>\n",
       "    </tr>\n",
       "    <tr>\n",
       "      <th>y</th>\n",
       "      <td>0.433225</td>\n",
       "      <td>-0.049527</td>\n",
       "      <td>0.049112</td>\n",
       "      <td>-0.038851</td>\n",
       "      <td>0.020636</td>\n",
       "      <td>-0.056943</td>\n",
       "      <td>0.447459</td>\n",
       "      <td>0.758771</td>\n",
       "      <td>0.162202</td>\n",
       "      <td>0.003375</td>\n",
       "    </tr>\n",
       "    <tr>\n",
       "      <th>z</th>\n",
       "      <td>0.438630</td>\n",
       "      <td>-0.064095</td>\n",
       "      <td>-0.057388</td>\n",
       "      <td>-0.031372</td>\n",
       "      <td>0.040139</td>\n",
       "      <td>0.022320</td>\n",
       "      <td>0.295550</td>\n",
       "      <td>-0.326553</td>\n",
       "      <td>-0.453117</td>\n",
       "      <td>-0.630719</td>\n",
       "    </tr>\n",
       "  </tbody>\n",
       "</table>\n",
       "</div>"
      ],
      "text/plain": [
       "               PC1       PC2       PC3       PC4       PC5       PC6  \\\n",
       "variable                                                               \n",
       "cut      -0.083775 -0.624479  0.391528 -0.215056 -0.246125  0.584325   \n",
       "color    -0.136893  0.151324  0.045195 -0.814648  0.525657  0.025735   \n",
       "clarity  -0.179679 -0.273581  0.223362  0.500451  0.733318  0.010396   \n",
       "carat     0.440199 -0.060982  0.006891 -0.007271  0.045884  0.005828   \n",
       "depth     0.007692 -0.143904 -0.835809  0.045978  0.161242  0.491077   \n",
       "table     0.106160  0.678371  0.283271  0.181903  0.058304  0.641388   \n",
       "price     0.402964 -0.138395  0.090289 -0.022223  0.302587  0.021823   \n",
       "x         0.440901 -0.044190  0.045263 -0.037497  0.015867 -0.031765   \n",
       "y         0.433225 -0.049527  0.049112 -0.038851  0.020636 -0.056943   \n",
       "z         0.438630 -0.064095 -0.057388 -0.031372  0.040139  0.022320   \n",
       "\n",
       "               PC7       PC8       PC9      PC10  \n",
       "variable                                          \n",
       "cut       0.036927 -0.002378  0.008766 -0.002476  \n",
       "color     0.106207 -0.042449  0.050860 -0.004601  \n",
       "clarity   0.218225 -0.063648  0.054682  0.000594  \n",
       "carat    -0.156314 -0.334871  0.799060 -0.158732  \n",
       "depth     0.021069  0.057132  0.024351  0.084174  \n",
       "table     0.010797  0.016322 -0.006955 -0.001919  \n",
       "price    -0.755169  0.253848 -0.286850  0.028003  \n",
       "x         0.238518 -0.362854 -0.203224  0.754377  \n",
       "y         0.447459  0.758771  0.162202  0.003375  \n",
       "z         0.295550 -0.326553 -0.453117 -0.630719  "
      ]
     },
     "execution_count": 42,
     "metadata": {},
     "output_type": "execute_result"
    }
   ],
   "source": [
    "loadings = pca_out.components_\n",
    "num_pc = pca_out.n_features_\n",
    "pc_list = [\"PC\"+str(i) for i in list(range(1, num_pc+1))]\n",
    "loadings_df = pd.DataFrame.from_dict(dict(zip(pc_list, loadings)))\n",
    "loadings_df['variable'] = df_train.columns.values\n",
    "loadings_df = loadings_df.set_index('variable')\n",
    "loadings_df"
   ]
  },
  {
   "cell_type": "code",
   "execution_count": 29,
   "id": "4d9b4f60",
   "metadata": {},
   "outputs": [],
   "source": [
    "y= df_train['price']\n",
    "X = df_train.drop(['price'],axis=1)"
   ]
  },
  {
   "cell_type": "markdown",
   "id": "14c0d46a",
   "metadata": {},
   "source": [
    "# Modelling (Linear Regression)"
   ]
  },
  {
   "cell_type": "code",
   "execution_count": 30,
   "id": "70d5521f",
   "metadata": {},
   "outputs": [
    {
     "name": "stdout",
     "output_type": "stream",
     "text": [
      "(25892, 9)\n",
      "(17262, 9)\n",
      "(25892,)\n",
      "(17262,)\n"
     ]
    }
   ],
   "source": [
    "x_train,x_test,y_train,y_test = train_test_split(X,y,test_size=0.4,random_state=101)\n",
    "print(x_train.shape)\n",
    "print(x_test.shape)\n",
    "print(y_train.shape)\n",
    "print(y_test.shape)"
   ]
  },
  {
   "cell_type": "code",
   "execution_count": 31,
   "id": "9851c4a6",
   "metadata": {},
   "outputs": [
    {
     "data": {
      "text/plain": [
       "0.9056093493706977"
      ]
     },
     "execution_count": 31,
     "metadata": {},
     "output_type": "execute_result"
    }
   ],
   "source": [
    "linear_regression_model = LinearRegression().fit(x_train, y_train)\n",
    "linear_regression_model.score(x_train, y_train)"
   ]
  },
  {
   "cell_type": "code",
   "execution_count": 32,
   "id": "77608fb4",
   "metadata": {},
   "outputs": [],
   "source": [
    "predict_lr_train = linear_regression_model.predict(x_train)\n",
    "predict_lr_test = linear_regression_model.predict(x_test)"
   ]
  },
  {
   "cell_type": "code",
   "execution_count": 33,
   "id": "8dac4dfd",
   "metadata": {},
   "outputs": [
    {
     "name": "stdout",
     "output_type": "stream",
     "text": [
      "Root Mean Square Error train for linear regression = 1234.0166443041733\n",
      "Root Mean Square Error test for linear regression = 1211.1831039902472\n"
     ]
    }
   ],
   "source": [
    "print('Root Mean Square Error train for linear regression = ' + str(math.sqrt(metrics.mean_squared_error(y_train, predict_lr_train))))\n",
    "print('Root Mean Square Error test for linear regression = ' + str(math.sqrt(metrics.mean_squared_error(y_test, predict_lr_test))))"
   ]
  },
  {
   "cell_type": "code",
   "execution_count": 34,
   "id": "59484c33",
   "metadata": {},
   "outputs": [
    {
     "data": {
      "text/plain": [
       "array([4958.80178809, 5897.5169829 , 9306.78037589, ..., 2134.78548375,\n",
       "       2934.33295507, 6458.65184981])"
      ]
     },
     "execution_count": 34,
     "metadata": {},
     "output_type": "execute_result"
    }
   ],
   "source": [
    "c = LinearRegression().fit(X, y)\n",
    "linear_regression_model.predict(X)"
   ]
  },
  {
   "cell_type": "code",
   "execution_count": 35,
   "id": "7841f024",
   "metadata": {},
   "outputs": [
    {
     "data": {
      "text/plain": [
       "0         4540.0\n",
       "1         5729.0\n",
       "2         6300.0\n",
       "3        12968.0\n",
       "4         2167.0\n",
       "          ...   \n",
       "43149     4975.0\n",
       "43150     1617.0\n",
       "43151     1014.0\n",
       "43152     2871.0\n",
       "43153     6320.0\n",
       "Name: price, Length: 43154, dtype: float64"
      ]
     },
     "execution_count": 35,
     "metadata": {},
     "output_type": "execute_result"
    }
   ],
   "source": [
    "y"
   ]
  },
  {
   "cell_type": "markdown",
   "id": "cb380b0a",
   "metadata": {},
   "source": [
    "# Lasso"
   ]
  },
  {
   "cell_type": "code",
   "execution_count": 36,
   "id": "a72d5081",
   "metadata": {},
   "outputs": [],
   "source": [
    "lasso = Lasso(max_iter=10000).fit(x_train,y_train)"
   ]
  },
  {
   "cell_type": "code",
   "execution_count": 37,
   "id": "6748fa80",
   "metadata": {},
   "outputs": [
    {
     "data": {
      "text/plain": [
       "0.905585985284599"
      ]
     },
     "execution_count": 37,
     "metadata": {},
     "output_type": "execute_result"
    }
   ],
   "source": [
    "lasso.score(x_train,y_train)"
   ]
  },
  {
   "cell_type": "code",
   "execution_count": 38,
   "id": "5605e84d",
   "metadata": {},
   "outputs": [],
   "source": [
    "predict_lasso_train = lasso.predict(x_train)\n",
    "predict_lasso_test = lasso.predict(x_test)"
   ]
  },
  {
   "cell_type": "code",
   "execution_count": 39,
   "id": "1d89f989",
   "metadata": {},
   "outputs": [
    {
     "name": "stdout",
     "output_type": "stream",
     "text": [
      "Root Mean Square Error train for lasso = 1234.1693601028799\n",
      "Root Mean Square Error test for lasso = 1210.6390463747528\n"
     ]
    }
   ],
   "source": [
    "print('Root Mean Square Error train for lasso = ' + str(math.sqrt(metrics.mean_squared_error(y_train, predict_lasso_train))))\n",
    "print('Root Mean Square Error test for lasso = ' + str(math.sqrt(metrics.mean_squared_error(y_test, predict_lasso_test))))"
   ]
  },
  {
   "cell_type": "markdown",
   "id": "34e033dc",
   "metadata": {},
   "source": [
    "# Linear Support Vector Machine"
   ]
  },
  {
   "cell_type": "code",
   "execution_count": 40,
   "id": "5aa05fc4",
   "metadata": {},
   "outputs": [],
   "source": [
    "sc_x = StandardScaler()\n",
    "sc_y = StandardScaler()\n",
    "xx = sc_x.fit_transform(x_train)\n",
    "yy = sc_y.fit_transform(y_train.array.reshape(-1, 1))\n",
    "\n",
    "xxx = sc_x.fit_transform(x_test)\n",
    "yyy = sc_y.fit_transform(y_test.array.reshape(-1, 1))"
   ]
  },
  {
   "cell_type": "code",
   "execution_count": 41,
   "id": "ef56f9ae",
   "metadata": {},
   "outputs": [],
   "source": [
    "lsvr_standardized = LinearSVR(verbose=0, max_iter=100000)\n",
    "lsvr_standardized.fit(xx, yy.ravel())\n",
    "predict_lsvr_train = lsvr_standardized.predict(xx)\n",
    "predict_lsvr_test = lsvr_standardized.predict(xxx)"
   ]
  },
  {
   "cell_type": "code",
   "execution_count": 42,
   "id": "81043cc1",
   "metadata": {},
   "outputs": [
    {
     "name": "stdout",
     "output_type": "stream",
     "text": [
      "Root Mean Square Error train for LSVR = 1369.7524823434383\n",
      "Root Mean Square Error test for LSVR = 1357.8650248404892\n"
     ]
    }
   ],
   "source": [
    "print('Root Mean Square Error train for LSVR = ' +\n",
    "      str(math.sqrt(metrics.mean_squared_error(y_train, sc_y.inverse_transform(predict_lsvr_train.reshape(-1, 1))))))\n",
    "print('Root Mean Square Error test for LSVR = ' +\n",
    "      str(math.sqrt(metrics.mean_squared_error(y_test, sc_y.inverse_transform(predict_lsvr_test.reshape(-1, 1))))))"
   ]
  },
  {
   "cell_type": "markdown",
   "id": "0369caaf",
   "metadata": {},
   "source": [
    "# Support Vector Machine with \"RBF\" Kernel"
   ]
  },
  {
   "cell_type": "code",
   "execution_count": 43,
   "id": "e0c6f163",
   "metadata": {},
   "outputs": [],
   "source": [
    "from sklearn.svm import SVR\n",
    "\n",
    "svr_rbf = SVR(kernel=\"rbf\", C=100, gamma=0.1, epsilon=0.1)\n",
    "rbf = svr_rbf.fit(xx, yy.ravel())"
   ]
  },
  {
   "cell_type": "code",
   "execution_count": 44,
   "id": "3355c044",
   "metadata": {},
   "outputs": [],
   "source": [
    "predict_svr_rbf_train = rbf.predict(xx)\n",
    "predict_svr_rbf_test = rbf.predict(xxx)"
   ]
  },
  {
   "cell_type": "code",
   "execution_count": 45,
   "id": "8f498c65",
   "metadata": {},
   "outputs": [
    {
     "name": "stdout",
     "output_type": "stream",
     "text": [
      "Root Mean Square Error train for SVR_RBF = 504.08990764478335\n",
      "Root Mean Square Error test for SVR_RBF = 655.7986363675918\n"
     ]
    }
   ],
   "source": [
    "print('Root Mean Square Error train for SVR_RBF = ' +\n",
    "      str(math.sqrt(metrics.mean_squared_error(y_train, sc_y.inverse_transform(predict_svr_rbf_train.reshape(-1, 1))))))\n",
    "print('Root Mean Square Error test for SVR_RBF = ' +\n",
    "      str(math.sqrt(metrics.mean_squared_error(y_test, sc_y.inverse_transform(predict_svr_rbf_test.reshape(-1, 1))))))"
   ]
  },
  {
   "cell_type": "markdown",
   "id": "594f9bd0",
   "metadata": {},
   "source": [
    "# Support Vector Machine with \"Poly\" Kernel"
   ]
  },
  {
   "cell_type": "code",
   "execution_count": 46,
   "id": "301c66f7",
   "metadata": {},
   "outputs": [],
   "source": [
    "svr_poly = SVR(kernel=\"poly\", C=100, gamma=\"auto\", degree=3, epsilon=0.1, coef0=1)\n",
    "poly = svr_poly.fit(xx, yy.ravel())"
   ]
  },
  {
   "cell_type": "code",
   "execution_count": 47,
   "id": "cd60f709",
   "metadata": {},
   "outputs": [],
   "source": [
    "predict_svr_poly_train = poly.predict(xx)\n",
    "predict_svr_poly_test = poly.predict(xxx)"
   ]
  },
  {
   "cell_type": "code",
   "execution_count": 48,
   "id": "3df118ef",
   "metadata": {},
   "outputs": [
    {
     "name": "stdout",
     "output_type": "stream",
     "text": [
      "Root Mean Square Error train for SVR_Poly = 626.5357796327293\n",
      "Root Mean Square Error test for SVR_Poly = 36861.61040823768\n"
     ]
    }
   ],
   "source": [
    "print('Root Mean Square Error train for SVR_Poly = ' +\n",
    "      str(math.sqrt(metrics.mean_squared_error(y_train, sc_y.inverse_transform(predict_svr_poly_train.reshape(-1, 1))))))\n",
    "print('Root Mean Square Error test for SVR_Poly = ' +\n",
    "      str(math.sqrt(metrics.mean_squared_error(y_test, sc_y.inverse_transform(predict_svr_poly_test.reshape(-1, 1))))))"
   ]
  },
  {
   "cell_type": "code",
   "execution_count": null,
   "id": "544d804f",
   "metadata": {},
   "outputs": [],
   "source": [
    "sc_y.inverse_transform(y)"
   ]
  },
  {
   "cell_type": "code",
   "execution_count": null,
   "id": "1cb19894",
   "metadata": {},
   "outputs": [],
   "source": []
  },
  {
   "cell_type": "code",
   "execution_count": null,
   "id": "0bca9859",
   "metadata": {},
   "outputs": [],
   "source": []
  },
  {
   "cell_type": "code",
   "execution_count": null,
   "id": "41b2e11f",
   "metadata": {},
   "outputs": [],
   "source": []
  }
 ],
 "metadata": {
  "kernelspec": {
   "display_name": "Python 3 (ipykernel)",
   "language": "python",
   "name": "python3"
  },
  "language_info": {
   "codemirror_mode": {
    "name": "ipython",
    "version": 3
   },
   "file_extension": ".py",
   "mimetype": "text/x-python",
   "name": "python",
   "nbconvert_exporter": "python",
   "pygments_lexer": "ipython3",
   "version": "3.9.12"
  }
 },
 "nbformat": 4,
 "nbformat_minor": 5
}
